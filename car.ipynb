{
 "cells": [
  {
   "cell_type": "code",
   "execution_count": 245,
   "id": "0299f7b3",
   "metadata": {},
   "outputs": [],
   "source": [
    "import os\n",
    "import warnings\n",
    "warnings.filterwarnings('ignore')\n",
    "from pyspark.sql import SparkSession\n",
    "from pyspark.sql.types import StructField, StructType, StringType, IntegerType, FloatType\n",
    "from pyspark.sql.functions import split, count, when, isnan, col, regexp_replace"
   ]
  },
  {
   "cell_type": "code",
   "execution_count": 2,
   "id": "03794c09",
   "metadata": {},
   "outputs": [
    {
     "name": "stderr",
     "output_type": "stream",
     "text": [
      "Setting default log level to \"WARN\".\n",
      "To adjust logging level use sc.setLogLevel(newLevel). For SparkR, use setLogLevel(newLevel).\n"
     ]
    },
    {
     "name": "stdout",
     "output_type": "stream",
     "text": [
      "22/12/30 12:46:14 WARN NativeCodeLoader: Unable to load native-hadoop library for your platform... using builtin-java classes where applicable\n",
      "Spark Version: 3.3.1\n"
     ]
    }
   ],
   "source": [
    "spark = SparkSession.builder.appName('First Session').getOrCreate()\n",
    "\n",
    "print('Spark Version: {}'.format(spark.version))"
   ]
  },
  {
   "cell_type": "code",
   "execution_count": 4,
   "id": "79f7ebf2",
   "metadata": {},
   "outputs": [],
   "source": [
    "import pyspark as sp"
   ]
  },
  {
   "cell_type": "code",
   "execution_count": 5,
   "id": "b5d96d6c",
   "metadata": {},
   "outputs": [
    {
     "name": "stdout",
     "output_type": "stream",
     "text": [
      "<SparkContext master=local[*] appName=First Session>\n",
      "3.3.1\n"
     ]
    }
   ],
   "source": [
    "sc = sp.SparkContext.getOrCreate()\n",
    "print(sc)\n",
    "print(sc.version)"
   ]
  },
  {
   "cell_type": "code",
   "execution_count": 6,
   "id": "aa25c014",
   "metadata": {},
   "outputs": [
    {
     "name": "stdout",
     "output_type": "stream",
     "text": [
      "<pyspark.sql.session.SparkSession object at 0x7fbcc9badca0>\n"
     ]
    }
   ],
   "source": [
    "from pyspark.sql import SparkSession\n",
    "\n",
    "#Create my_spark\n",
    "spark = SparkSession.builder.getOrCreate()\n",
    "\n",
    "#print my_spark\n",
    "print(spark)"
   ]
  },
  {
   "cell_type": "markdown",
   "id": "6b545928",
   "metadata": {},
   "source": [
    "## Importing the dataset"
   ]
  },
  {
   "cell_type": "code",
   "execution_count": 8,
   "id": "4335b2da",
   "metadata": {},
   "outputs": [],
   "source": [
    "auto_mpg= spark.read.csv('/Users/iqrabismi/Desktop/auto-mpg.csv', header= True, inferSchema=True)"
   ]
  },
  {
   "cell_type": "code",
   "execution_count": 9,
   "id": "df38f3a1",
   "metadata": {},
   "outputs": [
    {
     "name": "stdout",
     "output_type": "stream",
     "text": [
      "+----+---------+------------+----------+------+------------+----------+------+--------------------+\n",
      "| mpg|cylinders|displacement|horsepower|weight|acceleration|model year|origin|            car name|\n",
      "+----+---------+------------+----------+------+------------+----------+------+--------------------+\n",
      "|18.0|        8|       307.0|       130|  3504|        12.0|        70|     1|chevrolet chevell...|\n",
      "|15.0|        8|       350.0|       165|  3693|        11.5|        70|     1|   buick skylark 320|\n",
      "|18.0|        8|       318.0|       150|  3436|        11.0|        70|     1|  plymouth satellite|\n",
      "|16.0|        8|       304.0|       150|  3433|        12.0|        70|     1|       amc rebel sst|\n",
      "|17.0|        8|       302.0|       140|  3449|        10.5|        70|     1|         ford torino|\n",
      "+----+---------+------------+----------+------+------------+----------+------+--------------------+\n",
      "only showing top 5 rows\n",
      "\n"
     ]
    }
   ],
   "source": [
    "auto_mpg.show(5)"
   ]
  },
  {
   "cell_type": "markdown",
   "id": "9bf7289c",
   "metadata": {},
   "source": [
    "### Data Exploration "
   ]
  },
  {
   "cell_type": "code",
   "execution_count": 10,
   "id": "53728221",
   "metadata": {},
   "outputs": [
    {
     "name": "stdout",
     "output_type": "stream",
     "text": [
      "+---+---------+------------+----------+------+------------+----------+------+--------+\n",
      "|mpg|cylinders|displacement|horsepower|weight|acceleration|model year|origin|car name|\n",
      "+---+---------+------------+----------+------+------------+----------+------+--------+\n",
      "+---+---------+------------+----------+------+------------+----------+------+--------+\n",
      "\n"
     ]
    }
   ],
   "source": [
    "auto_mpg.filter('horsepower is NULL').show()"
   ]
  },
  {
   "cell_type": "code",
   "execution_count": 32,
   "id": "833f74d8",
   "metadata": {},
   "outputs": [
    {
     "name": "stdout",
     "output_type": "stream",
     "text": [
      "+---+---------+------------+----------+------+------------+----------+------+--------+\n",
      "|mpg|cylinders|displacement|horsepower|weight|acceleration|model year|origin|car name|\n",
      "+---+---------+------------+----------+------+------------+----------+------+--------+\n",
      "|  0|        0|           0|         0|     0|           0|         0|     0|       0|\n",
      "+---+---------+------------+----------+------+------------+----------+------+--------+\n",
      "\n"
     ]
    }
   ],
   "source": [
    "def check_missing(dataframe):\n",
    "    \n",
    "    return dataframe.select([count(when(isnan(c) | col(c).isNull(), c)). \\\n",
    "                             alias(c) for c in dataframe.columns]).show()\n",
    "\n",
    "check_missing(auto_mpg)  #hence no null values "
   ]
  },
  {
   "cell_type": "markdown",
   "id": "c8afc940",
   "metadata": {},
   "source": [
    "#### Checking for duplicate values"
   ]
  },
  {
   "cell_type": "code",
   "execution_count": 44,
   "id": "d589caae",
   "metadata": {},
   "outputs": [
    {
     "name": "stdout",
     "output_type": "stream",
     "text": [
      "+---+---------+------------+----------+------+------------+----------+------+--------+-----+\n",
      "|mpg|cylinders|displacement|horsepower|weight|acceleration|model year|origin|car name|count|\n",
      "+---+---------+------------+----------+------+------------+----------+------+--------+-----+\n",
      "+---+---------+------------+----------+------+------------+----------+------+--------+-----+\n",
      "\n"
     ]
    }
   ],
   "source": [
    "auto_mpg.groupBy(auto_mpg.columns).count().filter(col('count') >1).show()\n",
    "# hence no duplicate values"
   ]
  },
  {
   "cell_type": "code",
   "execution_count": 11,
   "id": "a30d7eaa",
   "metadata": {},
   "outputs": [
    {
     "name": "stderr",
     "output_type": "stream",
     "text": [
      "                                                                                \r"
     ]
    },
    {
     "name": "stdout",
     "output_type": "stream",
     "text": [
      "+-------+------------------+------------------+------------------+------------------+-----------------+------------------+------------------+------------------+--------------------+\n",
      "|summary|               mpg|         cylinders|      displacement|        horsepower|           weight|      acceleration|        model year|            origin|            car name|\n",
      "+-------+------------------+------------------+------------------+------------------+-----------------+------------------+------------------+------------------+--------------------+\n",
      "|  count|               398|               398|               398|               398|              398|               398|               398|               398|                 398|\n",
      "|   mean|23.514572864321615| 5.454773869346734|193.42587939698493|104.46938775510205|2970.424623115578|15.568090452261291| 76.01005025125629|1.5728643216080402|                null|\n",
      "| stddev| 7.815984312565783|1.7010042445332123|104.26983817119587| 38.49115993282846|846.8417741973268| 2.757688929812676|3.6976266467325862|0.8020548777266148|                null|\n",
      "|    min|               9.0|                 3|              68.0|               100|             1613|               8.0|                70|                 1|amc ambassador br...|\n",
      "|    max|              46.6|                 8|             455.0|                 ?|             5140|              24.8|                82|                 3|    vw rabbit custom|\n",
      "+-------+------------------+------------------+------------------+------------------+-----------------+------------------+------------------+------------------+--------------------+\n",
      "\n"
     ]
    }
   ],
   "source": [
    "auto_mpg.describe().show()"
   ]
  },
  {
   "cell_type": "code",
   "execution_count": 120,
   "id": "95dda461",
   "metadata": {},
   "outputs": [],
   "source": [
    "auto_mpg.createOrReplaceTempView(\"auto_tables\")\n"
   ]
  },
  {
   "cell_type": "code",
   "execution_count": 18,
   "id": "11600bdc",
   "metadata": {},
   "outputs": [
    {
     "name": "stdout",
     "output_type": "stream",
     "text": [
      "+----+---------+------------+----------+------+------------+----------+------+--------------------+\n",
      "| mpg|cylinders|displacement|horsepower|weight|acceleration|model year|origin|            car name|\n",
      "+----+---------+------------+----------+------+------------+----------+------+--------------------+\n",
      "|18.0|        8|       307.0|       130|  3504|        12.0|        70|     1|chevrolet chevell...|\n",
      "|15.0|        8|       350.0|       165|  3693|        11.5|        70|     1|   buick skylark 320|\n",
      "|18.0|        8|       318.0|       150|  3436|        11.0|        70|     1|  plymouth satellite|\n",
      "|16.0|        8|       304.0|       150|  3433|        12.0|        70|     1|       amc rebel sst|\n",
      "|17.0|        8|       302.0|       140|  3449|        10.5|        70|     1|         ford torino|\n",
      "+----+---------+------------+----------+------+------------+----------+------+--------------------+\n",
      "only showing top 5 rows\n",
      "\n"
     ]
    }
   ],
   "source": [
    "auto_mpg.show(5)"
   ]
  },
  {
   "cell_type": "markdown",
   "id": "1ccdb430",
   "metadata": {},
   "source": [
    "#### average horsepower"
   ]
  },
  {
   "cell_type": "code",
   "execution_count": 16,
   "id": "d698de07",
   "metadata": {},
   "outputs": [],
   "source": [
    "avg_hp= spark.sql('select avg(horsepower) from auto_tables')"
   ]
  },
  {
   "cell_type": "code",
   "execution_count": 17,
   "id": "04b08808",
   "metadata": {},
   "outputs": [
    {
     "name": "stdout",
     "output_type": "stream",
     "text": [
      "+------------------+\n",
      "|   avg(horsepower)|\n",
      "+------------------+\n",
      "|104.46938775510205|\n",
      "+------------------+\n",
      "\n"
     ]
    }
   ],
   "source": [
    "avg_hp.show()"
   ]
  },
  {
   "cell_type": "markdown",
   "id": "aceb3cb6",
   "metadata": {},
   "source": [
    "#### average displacement"
   ]
  },
  {
   "cell_type": "code",
   "execution_count": 19,
   "id": "7ab7b0ef",
   "metadata": {},
   "outputs": [],
   "source": [
    "avg_displacement= spark.sql('select avg(displacement) from auto_tables')"
   ]
  },
  {
   "cell_type": "code",
   "execution_count": 20,
   "id": "edc2da87",
   "metadata": {},
   "outputs": [
    {
     "name": "stdout",
     "output_type": "stream",
     "text": [
      "+------------------+\n",
      "| avg(displacement)|\n",
      "+------------------+\n",
      "|193.42587939698493|\n",
      "+------------------+\n",
      "\n"
     ]
    }
   ],
   "source": [
    "avg_displacement.show()"
   ]
  },
  {
   "cell_type": "markdown",
   "id": "2d19487e",
   "metadata": {},
   "source": [
    "#### average weight"
   ]
  },
  {
   "cell_type": "code",
   "execution_count": 21,
   "id": "f50db3d0",
   "metadata": {},
   "outputs": [],
   "source": [
    "avg_weight= spark.sql('select avg(weight) from auto_tables')"
   ]
  },
  {
   "cell_type": "code",
   "execution_count": 22,
   "id": "85affbb0",
   "metadata": {},
   "outputs": [
    {
     "name": "stdout",
     "output_type": "stream",
     "text": [
      "+-----------------+\n",
      "|      avg(weight)|\n",
      "+-----------------+\n",
      "|2970.424623115578|\n",
      "+-----------------+\n",
      "\n"
     ]
    }
   ],
   "source": [
    "avg_weight.show()"
   ]
  },
  {
   "cell_type": "markdown",
   "id": "d99f95c3",
   "metadata": {},
   "source": [
    "#### average weight"
   ]
  },
  {
   "cell_type": "code",
   "execution_count": 23,
   "id": "a54b0d0b",
   "metadata": {},
   "outputs": [],
   "source": [
    "average_accelaration= spark.sql('select avg(weight) from auto_tables')"
   ]
  },
  {
   "cell_type": "code",
   "execution_count": 24,
   "id": "43b820fc",
   "metadata": {},
   "outputs": [
    {
     "name": "stdout",
     "output_type": "stream",
     "text": [
      "+-----------------+\n",
      "|      avg(weight)|\n",
      "+-----------------+\n",
      "|2970.424623115578|\n",
      "+-----------------+\n",
      "\n"
     ]
    }
   ],
   "source": [
    "average_accelaration.show()"
   ]
  },
  {
   "cell_type": "markdown",
   "id": "59cac214",
   "metadata": {},
   "source": [
    "#### average mpg"
   ]
  },
  {
   "cell_type": "code",
   "execution_count": 25,
   "id": "f667394c",
   "metadata": {},
   "outputs": [],
   "source": [
    "average_mpg= spark.sql('select avg(mpg) from auto_tables')"
   ]
  },
  {
   "cell_type": "code",
   "execution_count": 26,
   "id": "3fc89d91",
   "metadata": {},
   "outputs": [
    {
     "name": "stdout",
     "output_type": "stream",
     "text": [
      "+------------------+\n",
      "|          avg(mpg)|\n",
      "+------------------+\n",
      "|23.514572864321615|\n",
      "+------------------+\n",
      "\n"
     ]
    }
   ],
   "source": [
    "average_mpg.show()"
   ]
  },
  {
   "cell_type": "markdown",
   "id": "0eda25ec",
   "metadata": {},
   "source": [
    "#### average cylinders"
   ]
  },
  {
   "cell_type": "code",
   "execution_count": 29,
   "id": "a9b30466",
   "metadata": {},
   "outputs": [],
   "source": [
    "average_cylinders= spark.sql('select avg(cylinders) from auto_tables')"
   ]
  },
  {
   "cell_type": "code",
   "execution_count": 30,
   "id": "1f5255ef",
   "metadata": {},
   "outputs": [
    {
     "name": "stdout",
     "output_type": "stream",
     "text": [
      "+-----------------+\n",
      "|   avg(cylinders)|\n",
      "+-----------------+\n",
      "|5.454773869346734|\n",
      "+-----------------+\n",
      "\n"
     ]
    }
   ],
   "source": [
    "average_cylinders.show()"
   ]
  },
  {
   "cell_type": "markdown",
   "id": "04aaf446",
   "metadata": {},
   "source": [
    "#### checking for datatypes "
   ]
  },
  {
   "cell_type": "code",
   "execution_count": 45,
   "id": "53c6d222",
   "metadata": {},
   "outputs": [
    {
     "name": "stdout",
     "output_type": "stream",
     "text": [
      "root\n",
      " |-- mpg: double (nullable = true)\n",
      " |-- cylinders: integer (nullable = true)\n",
      " |-- displacement: double (nullable = true)\n",
      " |-- horsepower: string (nullable = true)\n",
      " |-- weight: integer (nullable = true)\n",
      " |-- acceleration: double (nullable = true)\n",
      " |-- model year: integer (nullable = true)\n",
      " |-- origin: integer (nullable = true)\n",
      " |-- car name: string (nullable = true)\n",
      "\n"
     ]
    }
   ],
   "source": [
    "auto_mpg.printSchema()"
   ]
  },
  {
   "cell_type": "code",
   "execution_count": 70,
   "id": "117d0dab",
   "metadata": {},
   "outputs": [],
   "source": [
    "# changing the dataype of housepower to double\n",
    "auto_mpg= auto_mpg.withColumn('horsepower', auto_mpg.horsepower.cast('double'))\n"
   ]
  },
  {
   "cell_type": "code",
   "execution_count": 71,
   "id": "8404983b",
   "metadata": {},
   "outputs": [
    {
     "name": "stdout",
     "output_type": "stream",
     "text": [
      "root\n",
      " |-- mpg: double (nullable = true)\n",
      " |-- cylinders: integer (nullable = true)\n",
      " |-- displacement: double (nullable = true)\n",
      " |-- horsepower: double (nullable = true)\n",
      " |-- weight: integer (nullable = true)\n",
      " |-- acceleration: double (nullable = true)\n",
      " |-- model year: integer (nullable = true)\n",
      " |-- origin: integer (nullable = true)\n",
      " |-- car name: string (nullable = true)\n",
      "\n"
     ]
    }
   ],
   "source": [
    "auto_mpg.printSchema()"
   ]
  },
  {
   "cell_type": "markdown",
   "id": "c4ba2238",
   "metadata": {},
   "source": [
    "#### Setting the partitions to 500"
   ]
  },
  {
   "cell_type": "code",
   "execution_count": 46,
   "id": "e73c1e17",
   "metadata": {},
   "outputs": [
    {
     "data": {
      "text/plain": [
       "'200'"
      ]
     },
     "execution_count": 46,
     "metadata": {},
     "output_type": "execute_result"
    }
   ],
   "source": [
    "spark.conf.get(\"spark.sql.shuffle.partitions\")"
   ]
  },
  {
   "cell_type": "code",
   "execution_count": 47,
   "id": "17c3e5fd",
   "metadata": {},
   "outputs": [],
   "source": [
    "spark.conf.set(\"spark.sql.shuffle.partitions\", 500)"
   ]
  },
  {
   "cell_type": "markdown",
   "id": "5a34a301",
   "metadata": {},
   "source": [
    "#### checking the data distribution by converting to Pandas"
   ]
  },
  {
   "cell_type": "code",
   "execution_count": 73,
   "id": "30b30e6a",
   "metadata": {},
   "outputs": [],
   "source": [
    "df =auto_mpg.toPandas()"
   ]
  },
  {
   "cell_type": "code",
   "execution_count": 50,
   "id": "2bb20671",
   "metadata": {},
   "outputs": [],
   "source": [
    "import matplotlib.pyplot as plt"
   ]
  },
  {
   "cell_type": "code",
   "execution_count": 53,
   "id": "9c49b7b0",
   "metadata": {},
   "outputs": [
    {
     "data": {
      "text/html": [
       "<div>\n",
       "<style scoped>\n",
       "    .dataframe tbody tr th:only-of-type {\n",
       "        vertical-align: middle;\n",
       "    }\n",
       "\n",
       "    .dataframe tbody tr th {\n",
       "        vertical-align: top;\n",
       "    }\n",
       "\n",
       "    .dataframe thead th {\n",
       "        text-align: right;\n",
       "    }\n",
       "</style>\n",
       "<table border=\"1\" class=\"dataframe\">\n",
       "  <thead>\n",
       "    <tr style=\"text-align: right;\">\n",
       "      <th></th>\n",
       "      <th>mpg</th>\n",
       "      <th>cylinders</th>\n",
       "      <th>displacement</th>\n",
       "      <th>horsepower</th>\n",
       "      <th>weight</th>\n",
       "      <th>acceleration</th>\n",
       "      <th>model year</th>\n",
       "      <th>origin</th>\n",
       "      <th>car name</th>\n",
       "    </tr>\n",
       "  </thead>\n",
       "  <tbody>\n",
       "    <tr>\n",
       "      <th>0</th>\n",
       "      <td>18.0</td>\n",
       "      <td>8</td>\n",
       "      <td>307.0</td>\n",
       "      <td>130</td>\n",
       "      <td>3504</td>\n",
       "      <td>12.0</td>\n",
       "      <td>70</td>\n",
       "      <td>1</td>\n",
       "      <td>chevrolet chevelle malibu</td>\n",
       "    </tr>\n",
       "    <tr>\n",
       "      <th>1</th>\n",
       "      <td>15.0</td>\n",
       "      <td>8</td>\n",
       "      <td>350.0</td>\n",
       "      <td>165</td>\n",
       "      <td>3693</td>\n",
       "      <td>11.5</td>\n",
       "      <td>70</td>\n",
       "      <td>1</td>\n",
       "      <td>buick skylark 320</td>\n",
       "    </tr>\n",
       "    <tr>\n",
       "      <th>2</th>\n",
       "      <td>18.0</td>\n",
       "      <td>8</td>\n",
       "      <td>318.0</td>\n",
       "      <td>150</td>\n",
       "      <td>3436</td>\n",
       "      <td>11.0</td>\n",
       "      <td>70</td>\n",
       "      <td>1</td>\n",
       "      <td>plymouth satellite</td>\n",
       "    </tr>\n",
       "    <tr>\n",
       "      <th>3</th>\n",
       "      <td>16.0</td>\n",
       "      <td>8</td>\n",
       "      <td>304.0</td>\n",
       "      <td>150</td>\n",
       "      <td>3433</td>\n",
       "      <td>12.0</td>\n",
       "      <td>70</td>\n",
       "      <td>1</td>\n",
       "      <td>amc rebel sst</td>\n",
       "    </tr>\n",
       "    <tr>\n",
       "      <th>4</th>\n",
       "      <td>17.0</td>\n",
       "      <td>8</td>\n",
       "      <td>302.0</td>\n",
       "      <td>140</td>\n",
       "      <td>3449</td>\n",
       "      <td>10.5</td>\n",
       "      <td>70</td>\n",
       "      <td>1</td>\n",
       "      <td>ford torino</td>\n",
       "    </tr>\n",
       "    <tr>\n",
       "      <th>...</th>\n",
       "      <td>...</td>\n",
       "      <td>...</td>\n",
       "      <td>...</td>\n",
       "      <td>...</td>\n",
       "      <td>...</td>\n",
       "      <td>...</td>\n",
       "      <td>...</td>\n",
       "      <td>...</td>\n",
       "      <td>...</td>\n",
       "    </tr>\n",
       "    <tr>\n",
       "      <th>393</th>\n",
       "      <td>27.0</td>\n",
       "      <td>4</td>\n",
       "      <td>140.0</td>\n",
       "      <td>86</td>\n",
       "      <td>2790</td>\n",
       "      <td>15.6</td>\n",
       "      <td>82</td>\n",
       "      <td>1</td>\n",
       "      <td>ford mustang gl</td>\n",
       "    </tr>\n",
       "    <tr>\n",
       "      <th>394</th>\n",
       "      <td>44.0</td>\n",
       "      <td>4</td>\n",
       "      <td>97.0</td>\n",
       "      <td>52</td>\n",
       "      <td>2130</td>\n",
       "      <td>24.6</td>\n",
       "      <td>82</td>\n",
       "      <td>2</td>\n",
       "      <td>vw pickup</td>\n",
       "    </tr>\n",
       "    <tr>\n",
       "      <th>395</th>\n",
       "      <td>32.0</td>\n",
       "      <td>4</td>\n",
       "      <td>135.0</td>\n",
       "      <td>84</td>\n",
       "      <td>2295</td>\n",
       "      <td>11.6</td>\n",
       "      <td>82</td>\n",
       "      <td>1</td>\n",
       "      <td>dodge rampage</td>\n",
       "    </tr>\n",
       "    <tr>\n",
       "      <th>396</th>\n",
       "      <td>28.0</td>\n",
       "      <td>4</td>\n",
       "      <td>120.0</td>\n",
       "      <td>79</td>\n",
       "      <td>2625</td>\n",
       "      <td>18.6</td>\n",
       "      <td>82</td>\n",
       "      <td>1</td>\n",
       "      <td>ford ranger</td>\n",
       "    </tr>\n",
       "    <tr>\n",
       "      <th>397</th>\n",
       "      <td>31.0</td>\n",
       "      <td>4</td>\n",
       "      <td>119.0</td>\n",
       "      <td>82</td>\n",
       "      <td>2720</td>\n",
       "      <td>19.4</td>\n",
       "      <td>82</td>\n",
       "      <td>1</td>\n",
       "      <td>chevy s-10</td>\n",
       "    </tr>\n",
       "  </tbody>\n",
       "</table>\n",
       "<p>398 rows × 9 columns</p>\n",
       "</div>"
      ],
      "text/plain": [
       "      mpg  cylinders  displacement horsepower  weight  acceleration  \\\n",
       "0    18.0          8         307.0        130    3504          12.0   \n",
       "1    15.0          8         350.0        165    3693          11.5   \n",
       "2    18.0          8         318.0        150    3436          11.0   \n",
       "3    16.0          8         304.0        150    3433          12.0   \n",
       "4    17.0          8         302.0        140    3449          10.5   \n",
       "..    ...        ...           ...        ...     ...           ...   \n",
       "393  27.0          4         140.0         86    2790          15.6   \n",
       "394  44.0          4          97.0         52    2130          24.6   \n",
       "395  32.0          4         135.0         84    2295          11.6   \n",
       "396  28.0          4         120.0         79    2625          18.6   \n",
       "397  31.0          4         119.0         82    2720          19.4   \n",
       "\n",
       "     model year  origin                   car name  \n",
       "0            70       1  chevrolet chevelle malibu  \n",
       "1            70       1          buick skylark 320  \n",
       "2            70       1         plymouth satellite  \n",
       "3            70       1              amc rebel sst  \n",
       "4            70       1                ford torino  \n",
       "..          ...     ...                        ...  \n",
       "393          82       1            ford mustang gl  \n",
       "394          82       2                  vw pickup  \n",
       "395          82       1              dodge rampage  \n",
       "396          82       1                ford ranger  \n",
       "397          82       1                 chevy s-10  \n",
       "\n",
       "[398 rows x 9 columns]"
      ]
     },
     "execution_count": 53,
     "metadata": {},
     "output_type": "execute_result"
    }
   ],
   "source": [
    "df"
   ]
  },
  {
   "cell_type": "code",
   "execution_count": 52,
   "id": "bf3cffdf",
   "metadata": {},
   "outputs": [
    {
     "data": {
      "text/plain": [
       "<AxesSubplot:>"
      ]
     },
     "execution_count": 52,
     "metadata": {},
     "output_type": "execute_result"
    },
    {
     "data": {
      "image/png": "[encoded data removed]",
      "text/plain": [
       "<Figure size 432x288 with 1 Axes>"
      ]
     },
     "metadata": {
      "needs_background": "light"
     },
     "output_type": "display_data"
    }
   ],
   "source": [
    "df.mpg.hist()"
   ]
  },
  {
   "cell_type": "code",
   "execution_count": 56,
   "id": "6ef87fb8",
   "metadata": {},
   "outputs": [],
   "source": [
    "import seaborn as sns"
   ]
  },
  {
   "cell_type": "code",
   "execution_count": 57,
   "id": "3b21003f",
   "metadata": {},
   "outputs": [
    {
     "data": {
      "text/plain": [
       "<AxesSubplot:xlabel='cylinders', ylabel='count'>"
      ]
     },
     "execution_count": 57,
     "metadata": {},
     "output_type": "execute_result"
    },
    {
     "data": {
      "image/png": "[encoded data removed]",
      "text/plain": [
       "<Figure size 432x288 with 1 Axes>"
      ]
     },
     "metadata": {
      "needs_background": "light"
     },
     "output_type": "display_data"
    }
   ],
   "source": [
    "sns.countplot(df.cylinders)"
   ]
  },
  {
   "cell_type": "code",
   "execution_count": 58,
   "id": "abf5242a",
   "metadata": {},
   "outputs": [
    {
     "data": {
      "text/plain": [
       "<AxesSubplot:>"
      ]
     },
     "execution_count": 58,
     "metadata": {},
     "output_type": "execute_result"
    },
    {
     "data": {
      "image/png": "[encoded data removed]",
      "text/plain": [
       "<Figure size 432x288 with 1 Axes>"
      ]
     },
     "metadata": {
      "needs_background": "light"
     },
     "output_type": "display_data"
    }
   ],
   "source": [
    "df.displacement.hist()"
   ]
  },
  {
   "cell_type": "code",
   "execution_count": 74,
   "id": "fec3ac2a",
   "metadata": {},
   "outputs": [
    {
     "data": {
      "text/plain": [
       "<AxesSubplot:>"
      ]
     },
     "execution_count": 74,
     "metadata": {},
     "output_type": "execute_result"
    },
    {
     "data": {
      "image/png": "[encoded data removed]",
      "text/plain": [
       "<Figure size 432x288 with 1 Axes>"
      ]
     },
     "metadata": {
      "needs_background": "light"
     },
     "output_type": "display_data"
    }
   ],
   "source": [
    "df.horsepower.hist()"
   ]
  },
  {
   "cell_type": "code",
   "execution_count": 75,
   "id": "95679a87",
   "metadata": {},
   "outputs": [
    {
     "data": {
      "text/plain": [
       "<AxesSubplot:>"
      ]
     },
     "execution_count": 75,
     "metadata": {},
     "output_type": "execute_result"
    },
    {
     "data": {
      "image/png": "[encoded data removed]",
      "text/plain": [
       "<Figure size 432x288 with 1 Axes>"
      ]
     },
     "metadata": {
      "needs_background": "light"
     },
     "output_type": "display_data"
    }
   ],
   "source": [
    "df.acceleration.hist()"
   ]
  },
  {
   "cell_type": "code",
   "execution_count": 77,
   "id": "7c8c7a18",
   "metadata": {},
   "outputs": [
    {
     "data": {
      "text/plain": [
       "<AxesSubplot:>"
      ]
     },
     "execution_count": 77,
     "metadata": {},
     "output_type": "execute_result"
    },
    {
     "data": {
      "image/png": "[encoded data removed]",
      "text/plain": [
       "<Figure size 432x288 with 1 Axes>"
      ]
     },
     "metadata": {
      "needs_background": "light"
     },
     "output_type": "display_data"
    }
   ],
   "source": [
    "df.weight.hist()"
   ]
  },
  {
   "cell_type": "code",
   "execution_count": 155,
   "id": "0c13a77e",
   "metadata": {},
   "outputs": [
    {
     "data": {
      "text/plain": [
       "<function matplotlib.pyplot.show(close=None, block=None)>"
      ]
     },
     "execution_count": 155,
     "metadata": {},
     "output_type": "execute_result"
    },
    {
     "data": {
      "image/png": "[encoded data removed]",
      "text/plain": [
       "<Figure size 432x288 with 1 Axes>"
      ]
     },
     "metadata": {
      "needs_background": "light"
     },
     "output_type": "display_data"
    }
   ],
   "source": [
    "sns.barplot(data= df, x= 'origin', y= 'weight', ci=None, alpha= 0.6)\n",
    "import numpy as np\n",
    "plt.axhline(np.median(df['weight']), color= 'purple', alpha= 0.8)\n",
    "plt.show"
   ]
  },
  {
   "cell_type": "markdown",
   "id": "74e2e445",
   "metadata": {},
   "source": [
    "#### Renaming the columns in spark dataframe"
   ]
  },
  {
   "cell_type": "code",
   "execution_count": 78,
   "id": "8fc9f508",
   "metadata": {},
   "outputs": [
    {
     "name": "stdout",
     "output_type": "stream",
     "text": [
      "+----+---------+------------+----------+------+------------+----------+------+--------------------+\n",
      "| mpg|cylinders|displacement|horsepower|weight|acceleration|model year|origin|            car name|\n",
      "+----+---------+------------+----------+------+------------+----------+------+--------------------+\n",
      "|18.0|        8|       307.0|     130.0|  3504|        12.0|        70|     1|chevrolet chevell...|\n",
      "|15.0|        8|       350.0|     165.0|  3693|        11.5|        70|     1|   buick skylark 320|\n",
      "|18.0|        8|       318.0|     150.0|  3436|        11.0|        70|     1|  plymouth satellite|\n",
      "|16.0|        8|       304.0|     150.0|  3433|        12.0|        70|     1|       amc rebel sst|\n",
      "|17.0|        8|       302.0|     140.0|  3449|        10.5|        70|     1|         ford torino|\n",
      "+----+---------+------------+----------+------+------------+----------+------+--------------------+\n",
      "only showing top 5 rows\n",
      "\n"
     ]
    }
   ],
   "source": [
    "auto_mpg.show(5)"
   ]
  },
  {
   "cell_type": "code",
   "execution_count": 79,
   "id": "e04e41e8",
   "metadata": {},
   "outputs": [],
   "source": [
    "auto_mpg= auto_mpg.withColumnRenamed('car name','car_name').withColumnRenamed('model year', 'model_year')"
   ]
  },
  {
   "cell_type": "code",
   "execution_count": 80,
   "id": "b829808d",
   "metadata": {},
   "outputs": [
    {
     "name": "stdout",
     "output_type": "stream",
     "text": [
      "+----+---------+------------+----------+------+------------+----------+------+--------------------+\n",
      "| mpg|cylinders|displacement|horsepower|weight|acceleration|model_year|origin|            car_name|\n",
      "+----+---------+------------+----------+------+------------+----------+------+--------------------+\n",
      "|18.0|        8|       307.0|     130.0|  3504|        12.0|        70|     1|chevrolet chevell...|\n",
      "|15.0|        8|       350.0|     165.0|  3693|        11.5|        70|     1|   buick skylark 320|\n",
      "|18.0|        8|       318.0|     150.0|  3436|        11.0|        70|     1|  plymouth satellite|\n",
      "|16.0|        8|       304.0|     150.0|  3433|        12.0|        70|     1|       amc rebel sst|\n",
      "|17.0|        8|       302.0|     140.0|  3449|        10.5|        70|     1|         ford torino|\n",
      "+----+---------+------------+----------+------+------------+----------+------+--------------------+\n",
      "only showing top 5 rows\n",
      "\n"
     ]
    }
   ],
   "source": [
    "auto_mpg.show(5)"
   ]
  },
  {
   "cell_type": "markdown",
   "id": "ede25c7a",
   "metadata": {},
   "source": [
    "### Basic spark operations "
   ]
  },
  {
   "cell_type": "code",
   "execution_count": 92,
   "id": "562ca617",
   "metadata": {},
   "outputs": [],
   "source": [
    "from pyspark.sql.functions import min,max,avg,count,sum, col"
   ]
  },
  {
   "cell_type": "markdown",
   "id": "c97aa7c0",
   "metadata": {},
   "source": [
    "#### Number of cars wrt to Model Year"
   ]
  },
  {
   "cell_type": "code",
   "execution_count": 88,
   "id": "87eb2cb4",
   "metadata": {},
   "outputs": [
    {
     "name": "stdout",
     "output_type": "stream",
     "text": [
      "+----------+-----+\n",
      "|model_year|count|\n",
      "+----------+-----+\n",
      "|        73|   40|\n",
      "|        78|   36|\n",
      "|        76|   34|\n",
      "|        82|   31|\n",
      "|        75|   30|\n",
      "|        80|   29|\n",
      "|        70|   29|\n",
      "|        81|   29|\n",
      "|        79|   29|\n",
      "|        72|   28|\n",
      "+----------+-----+\n",
      "only showing top 10 rows\n",
      "\n"
     ]
    }
   ],
   "source": [
    "auto_mpg.groupBy('model_year').count().sort('count' , ascending=False).show(10)"
   ]
  },
  {
   "cell_type": "code",
   "execution_count": 85,
   "id": "22122a90",
   "metadata": {},
   "outputs": [
    {
     "name": "stdout",
     "output_type": "stream",
     "text": [
      "+------------------+\n",
      "|        avg(count)|\n",
      "+------------------+\n",
      "|30.615384615384617|\n",
      "+------------------+\n",
      "\n"
     ]
    }
   ],
   "source": [
    "auto_mpg.groupBy('model_year').count().select(avg('count')).show()"
   ]
  },
  {
   "cell_type": "code",
   "execution_count": 89,
   "id": "97ed5a61",
   "metadata": {},
   "outputs": [
    {
     "name": "stdout",
     "output_type": "stream",
     "text": [
      "+----------+\n",
      "|min(count)|\n",
      "+----------+\n",
      "|        27|\n",
      "+----------+\n",
      "\n"
     ]
    }
   ],
   "source": [
    "auto_mpg.groupBy('model_year').count().select(min('count')).show()"
   ]
  },
  {
   "cell_type": "markdown",
   "id": "1f1a8237",
   "metadata": {},
   "source": [
    "#### Car with min HP"
   ]
  },
  {
   "cell_type": "code",
   "execution_count": 110,
   "id": "8288db6d",
   "metadata": {},
   "outputs": [
    {
     "name": "stdout",
     "output_type": "stream",
     "text": [
      "+---------------+\n",
      "|min(horsepower)|\n",
      "+---------------+\n",
      "|           46.0|\n",
      "+---------------+\n",
      "\n"
     ]
    }
   ],
   "source": [
    "minval= auto_mpg.select(min(col('horsepower'))).show()"
   ]
  },
  {
   "cell_type": "code",
   "execution_count": 109,
   "id": "4e97da0f",
   "metadata": {},
   "outputs": [
    {
     "name": "stdout",
     "output_type": "stream",
     "text": [
      "+--------------------+\n",
      "|            car_name|\n",
      "+--------------------+\n",
      "|volkswagen 1131 d...|\n",
      "|volkswagen super ...|\n",
      "+--------------------+\n",
      "\n"
     ]
    }
   ],
   "source": [
    "auto_mpg.filter(col('horsepower')== 46.0).select('car_name').show()"
   ]
  },
  {
   "cell_type": "markdown",
   "id": "407c76e3",
   "metadata": {},
   "source": [
    "#### Car with max HP"
   ]
  },
  {
   "cell_type": "code",
   "execution_count": 112,
   "id": "527c7aab",
   "metadata": {},
   "outputs": [
    {
     "name": "stdout",
     "output_type": "stream",
     "text": [
      "+---------------+\n",
      "|max(horsepower)|\n",
      "+---------------+\n",
      "|          230.0|\n",
      "+---------------+\n",
      "\n"
     ]
    }
   ],
   "source": [
    "maxval= auto_mpg.select(max(col('horsepower'))).show()"
   ]
  },
  {
   "cell_type": "code",
   "execution_count": 113,
   "id": "b6256261",
   "metadata": {},
   "outputs": [
    {
     "name": "stdout",
     "output_type": "stream",
     "text": [
      "+------------------+\n",
      "|          car_name|\n",
      "+------------------+\n",
      "|pontiac grand prix|\n",
      "+------------------+\n",
      "\n"
     ]
    }
   ],
   "source": [
    "auto_mpg.filter(col('horsepower')== 230.0).select('car_name').show()"
   ]
  },
  {
   "cell_type": "markdown",
   "id": "775b323f",
   "metadata": {},
   "source": [
    "#### Number of cars with HP > avg(HP)"
   ]
  },
  {
   "cell_type": "code",
   "execution_count": 114,
   "id": "899e4170",
   "metadata": {},
   "outputs": [
    {
     "name": "stdout",
     "output_type": "stream",
     "text": [
      "+------------------+\n",
      "|   avg(horsepower)|\n",
      "+------------------+\n",
      "|104.46938775510205|\n",
      "+------------------+\n",
      "\n"
     ]
    }
   ],
   "source": [
    "avgval= auto_mpg.select(avg(col('horsepower'))).show()"
   ]
  },
  {
   "cell_type": "code",
   "execution_count": 117,
   "id": "fdfcd283",
   "metadata": {},
   "outputs": [
    {
     "data": {
      "text/plain": [
       "148"
      ]
     },
     "execution_count": 117,
     "metadata": {},
     "output_type": "execute_result"
    }
   ],
   "source": [
    "auto_mpg.filter(col('horsepower')> 104.46938775510205).select('car_name').count()"
   ]
  },
  {
   "cell_type": "markdown",
   "id": "ac414fff",
   "metadata": {},
   "source": [
    "#### Using SQL in Pyspark"
   ]
  },
  {
   "cell_type": "code",
   "execution_count": 118,
   "id": "40ed41aa",
   "metadata": {},
   "outputs": [
    {
     "name": "stdout",
     "output_type": "stream",
     "text": [
      "+----+---------+------------+----------+------+------------+----------+------+--------------------+\n",
      "| mpg|cylinders|displacement|horsepower|weight|acceleration|model_year|origin|            car_name|\n",
      "+----+---------+------------+----------+------+------------+----------+------+--------------------+\n",
      "|18.0|        8|       307.0|     130.0|  3504|        12.0|        70|     1|chevrolet chevell...|\n",
      "|15.0|        8|       350.0|     165.0|  3693|        11.5|        70|     1|   buick skylark 320|\n",
      "|18.0|        8|       318.0|     150.0|  3436|        11.0|        70|     1|  plymouth satellite|\n",
      "|16.0|        8|       304.0|     150.0|  3433|        12.0|        70|     1|       amc rebel sst|\n",
      "|17.0|        8|       302.0|     140.0|  3449|        10.5|        70|     1|         ford torino|\n",
      "+----+---------+------------+----------+------+------------+----------+------+--------------------+\n",
      "only showing top 5 rows\n",
      "\n"
     ]
    }
   ],
   "source": [
    "auto_mpg.show(5)"
   ]
  },
  {
   "cell_type": "code",
   "execution_count": 128,
   "id": "7347118c",
   "metadata": {},
   "outputs": [
    {
     "name": "stdout",
     "output_type": "stream",
     "text": [
      "+--------------------+----------+\n",
      "|            car_name|model_year|\n",
      "+--------------------+----------+\n",
      "|chevrolet chevell...|        70|\n",
      "|   buick skylark 320|        70|\n",
      "|  plymouth satellite|        70|\n",
      "|       amc rebel sst|        70|\n",
      "|         ford torino|        70|\n",
      "|    ford galaxie 500|        70|\n",
      "|    chevrolet impala|        70|\n",
      "|   plymouth fury iii|        70|\n",
      "|    pontiac catalina|        70|\n",
      "|  amc ambassador dpl|        70|\n",
      "| dodge challenger se|        70|\n",
      "|  plymouth 'cuda 340|        70|\n",
      "|chevrolet monte c...|        70|\n",
      "|buick estate wago...|        70|\n",
      "|           ford f250|        70|\n",
      "|           chevy c20|        70|\n",
      "|          dodge d200|        70|\n",
      "|            hi 1200d|        70|\n",
      "|plymouth satellit...|        71|\n",
      "|    chevrolet impala|        71|\n",
      "+--------------------+----------+\n",
      "only showing top 20 rows\n",
      "\n"
     ]
    }
   ],
   "source": [
    "spark.sql('select car_name, model_year from auto_tables where horsepower> 104.46938775510205 and weight> 2970.424623115578').show()"
   ]
  },
  {
   "cell_type": "markdown",
   "id": "479e00c8",
   "metadata": {},
   "source": [
    "#### Car with HP > 80 and weight >2k "
   ]
  },
  {
   "cell_type": "code",
   "execution_count": 129,
   "id": "3c256218",
   "metadata": {},
   "outputs": [
    {
     "name": "stdout",
     "output_type": "stream",
     "text": [
      "+--------------------+----------+\n",
      "|            car_name|model_year|\n",
      "+--------------------+----------+\n",
      "|chevrolet chevell...|        70|\n",
      "|   buick skylark 320|        70|\n",
      "|  plymouth satellite|        70|\n",
      "|       amc rebel sst|        70|\n",
      "|         ford torino|        70|\n",
      "|    ford galaxie 500|        70|\n",
      "|    chevrolet impala|        70|\n",
      "|   plymouth fury iii|        70|\n",
      "|    pontiac catalina|        70|\n",
      "|  amc ambassador dpl|        70|\n",
      "| dodge challenger se|        70|\n",
      "|  plymouth 'cuda 340|        70|\n",
      "|chevrolet monte c...|        70|\n",
      "|buick estate wago...|        70|\n",
      "|toyota corona mar...|        70|\n",
      "|     plymouth duster|        70|\n",
      "|          amc hornet|        70|\n",
      "|       ford maverick|        70|\n",
      "|        datsun pl510|        70|\n",
      "|         peugeot 504|        70|\n",
      "+--------------------+----------+\n",
      "only showing top 20 rows\n",
      "\n"
     ]
    }
   ],
   "source": [
    "spark.sql('select car_name, model_year from auto_tables where horsepower> 80 and weight> 2000').show()"
   ]
  },
  {
   "cell_type": "markdown",
   "id": "d391a979",
   "metadata": {},
   "source": [
    "#### Most common Model Year in all Cars"
   ]
  },
  {
   "cell_type": "code",
   "execution_count": 131,
   "id": "f2cde06a",
   "metadata": {},
   "outputs": [
    {
     "name": "stdout",
     "output_type": "stream",
     "text": [
      "+----------+--------+\n",
      "|model_year|count(1)|\n",
      "+----------+--------+\n",
      "|        73|      40|\n",
      "|        78|      36|\n",
      "|        76|      34|\n",
      "|        82|      31|\n",
      "|        75|      30|\n",
      "|        70|      29|\n",
      "|        81|      29|\n",
      "|        79|      29|\n",
      "|        80|      29|\n",
      "|        71|      28|\n",
      "|        72|      28|\n",
      "|        77|      28|\n",
      "|        74|      27|\n",
      "+----------+--------+\n",
      "\n"
     ]
    }
   ],
   "source": [
    "spark.sql('select model_year, count(*) from auto_tables group by 1 order by 2 desc').show()"
   ]
  },
  {
   "cell_type": "markdown",
   "id": "87bc5e74",
   "metadata": {},
   "source": [
    "#### Most commong Model and cars "
   ]
  },
  {
   "cell_type": "code",
   "execution_count": 132,
   "id": "7e74d714",
   "metadata": {},
   "outputs": [
    {
     "name": "stdout",
     "output_type": "stream",
     "text": [
      "+--------------------+----------+--------+\n",
      "|            car_name|model_year|count(1)|\n",
      "+--------------------+----------+--------+\n",
      "|          ford pinto|        75|       2|\n",
      "|    plymouth reliant|        81|       2|\n",
      "|        ford granada|        77|       1|\n",
      "|        datsun pl510|        70|       1|\n",
      "|         amc gremlin|        70|       1|\n",
      "|    chevrolet malibu|        73|       1|\n",
      "|  honda civic (auto)|        82|       1|\n",
      "|         fiat 124 tc|        74|       1|\n",
      "|     mazda rx2 coupe|        72|       1|\n",
      "|       toyota corona|        74|       1|\n",
      "| plymouth grand fury|        75|       1|\n",
      "| ford pinto runabout|        72|       1|\n",
      "|       ford maverick|        73|       1|\n",
      "|chevrolet caprice...|        77|       1|\n",
      "|oldsmobile cutlas...|        78|       1|\n",
      "|     ford granada gl|        81|       1|\n",
      "|    cadillac seville|        76|       1|\n",
      "| toyota corolla 1200|        71|       1|\n",
      "|chrysler newport ...|        72|       1|\n",
      "|   volkswagen dasher|        75|       1|\n",
      "+--------------------+----------+--------+\n",
      "only showing top 20 rows\n",
      "\n"
     ]
    }
   ],
   "source": [
    "spark.sql('select car_name,model_year, count(*) from auto_tables group by 1,2 order by 3 desc').show()"
   ]
  },
  {
   "cell_type": "markdown",
   "id": "bf72e942",
   "metadata": {},
   "source": [
    "#### Avg HP wrt Model and cars "
   ]
  },
  {
   "cell_type": "code",
   "execution_count": 133,
   "id": "1622bca8",
   "metadata": {},
   "outputs": [
    {
     "name": "stdout",
     "output_type": "stream",
     "text": [
      "+--------------------+----------+---------------+\n",
      "|            car_name|model_year|avg(horsepower)|\n",
      "+--------------------+----------+---------------+\n",
      "|  pontiac grand prix|        73|          230.0|\n",
      "|buick electra 225...|        73|          225.0|\n",
      "|buick estate wago...|        70|          225.0|\n",
      "|    pontiac catalina|        70|          225.0|\n",
      "|    chevrolet impala|        70|          220.0|\n",
      "|   plymouth fury iii|        70|          215.0|\n",
      "|chrysler new york...|        73|          215.0|\n",
      "|           ford f250|        70|          215.0|\n",
      "|          dodge d200|        70|          210.0|\n",
      "|     mercury marquis|        72|          208.0|\n",
      "|           chevy c20|        70|          200.0|\n",
      "|    ford galaxie 500|        70|          198.0|\n",
      "|mercury marquis b...|        73|          198.0|\n",
      "|            hi 1200d|        70|          193.0|\n",
      "|  amc ambassador dpl|        70|          190.0|\n",
      "|chrysler newport ...|        72|          190.0|\n",
      "|    chrysler cordoba|        77|          190.0|\n",
      "|oldsmobile vista ...|        73|          180.0|\n",
      "|   dodge monaco (sw)|        71|          180.0|\n",
      "|    cadillac seville|        76|          180.0|\n",
      "+--------------------+----------+---------------+\n",
      "only showing top 20 rows\n",
      "\n"
     ]
    }
   ],
   "source": [
    "spark.sql('select car_name,model_year, avg(horsepower) from auto_tables group by 1,2 order by 3 desc').show()"
   ]
  },
  {
   "cell_type": "markdown",
   "id": "9bd5449c",
   "metadata": {},
   "source": [
    "#### cars with orgin= 2"
   ]
  },
  {
   "cell_type": "code",
   "execution_count": 135,
   "id": "30aa1d4c",
   "metadata": {},
   "outputs": [
    {
     "name": "stdout",
     "output_type": "stream",
     "text": [
      "+----+---------+------------+----------+------+------------+----------+------+--------------------+\n",
      "| mpg|cylinders|displacement|horsepower|weight|acceleration|model_year|origin|            car_name|\n",
      "+----+---------+------------+----------+------+------------+----------+------+--------------------+\n",
      "|26.0|        4|        97.0|      46.0|  1835|        20.5|        70|     2|volkswagen 1131 d...|\n",
      "|25.0|        4|       110.0|      87.0|  2672|        17.5|        70|     2|         peugeot 504|\n",
      "|24.0|        4|       107.0|      90.0|  2430|        14.5|        70|     2|         audi 100 ls|\n",
      "|25.0|        4|       104.0|      95.0|  2375|        17.5|        70|     2|            saab 99e|\n",
      "|26.0|        4|       121.0|     113.0|  2234|        12.5|        70|     2|            bmw 2002|\n",
      "|28.0|        4|       116.0|      90.0|  2123|        14.0|        71|     2|           opel 1900|\n",
      "|30.0|        4|        79.0|      70.0|  2074|        19.5|        71|     2|         peugeot 304|\n",
      "|30.0|        4|        88.0|      76.0|  2065|        14.5|        71|     2|           fiat 124b|\n",
      "|27.0|        4|        97.0|      60.0|  1834|        19.0|        71|     2|volkswagen model 111|\n",
      "|23.0|        4|        97.0|      54.0|  2254|        23.5|        72|     2|   volkswagen type 3|\n",
      "+----+---------+------------+----------+------+------------+----------+------+--------------------+\n",
      "only showing top 10 rows\n",
      "\n"
     ]
    }
   ],
   "source": [
    "auto_mpg.filter(col('origin')==2).show(10)"
   ]
  },
  {
   "cell_type": "markdown",
   "id": "d36e53d5",
   "metadata": {},
   "source": [
    "#### cars with orgin= 3"
   ]
  },
  {
   "cell_type": "code",
   "execution_count": 139,
   "id": "da11f7ae",
   "metadata": {},
   "outputs": [
    {
     "name": "stdout",
     "output_type": "stream",
     "text": [
      "+----+---------+------------+----------+------+------------+----------+------+--------------------+\n",
      "| mpg|cylinders|displacement|horsepower|weight|acceleration|model_year|origin|            car_name|\n",
      "+----+---------+------------+----------+------+------------+----------+------+--------------------+\n",
      "|24.0|        4|       113.0|      95.0|  2372|        15.0|        70|     3|toyota corona mar...|\n",
      "|27.0|        4|        97.0|      88.0|  2130|        14.5|        70|     3|        datsun pl510|\n",
      "|27.0|        4|        97.0|      88.0|  2130|        14.5|        71|     3|        datsun pl510|\n",
      "|25.0|        4|       113.0|      95.0|  2228|        14.0|        71|     3|       toyota corona|\n",
      "|31.0|        4|        71.0|      65.0|  1773|        19.0|        71|     3| toyota corolla 1200|\n",
      "|35.0|        4|        72.0|      69.0|  1613|        18.0|        71|     3|         datsun 1200|\n",
      "|24.0|        4|       113.0|      95.0|  2278|        15.5|        72|     3|toyota corona har...|\n",
      "|19.0|        3|        70.0|      97.0|  2330|        13.5|        72|     3|     mazda rx2 coupe|\n",
      "|28.0|        4|        97.0|      92.0|  2288|        17.0|        72|     3|     datsun 510 (sw)|\n",
      "|23.0|        4|       120.0|      97.0|  2506|        14.5|        72|     3|toyouta corona ma...|\n",
      "+----+---------+------------+----------+------+------------+----------+------+--------------------+\n",
      "only showing top 10 rows\n",
      "\n"
     ]
    }
   ],
   "source": [
    "auto_mpg.filter(col('origin')==3).show(10)"
   ]
  },
  {
   "cell_type": "markdown",
   "id": "7fdd2b40",
   "metadata": {},
   "source": [
    "#### Number of distinct origin"
   ]
  },
  {
   "cell_type": "code",
   "execution_count": 138,
   "id": "5abaebd1",
   "metadata": {},
   "outputs": [
    {
     "name": "stdout",
     "output_type": "stream",
     "text": [
      "+------+-----+\n",
      "|origin|count|\n",
      "+------+-----+\n",
      "|     1|  249|\n",
      "|     3|   79|\n",
      "|     2|   70|\n",
      "+------+-----+\n",
      "\n"
     ]
    }
   ],
   "source": [
    "auto_mpg.groupBy('origin').count().show()"
   ]
  },
  {
   "cell_type": "markdown",
   "id": "e2662ad6",
   "metadata": {},
   "source": [
    "#### Avg HP, Weight and displacement wrt origin, model_year, car_name"
   ]
  },
  {
   "cell_type": "code",
   "execution_count": 142,
   "id": "0017f689",
   "metadata": {},
   "outputs": [
    {
     "name": "stdout",
     "output_type": "stream",
     "text": [
      "+------+----------+--------------------+---------------+-----------+-----------------+\n",
      "|origin|model_year|            car_name|avg(horsepower)|avg(weight)|avg(displacement)|\n",
      "+------+----------+--------------------+---------------+-----------+-----------------+\n",
      "|     1|        70|       amc rebel sst|          150.0|     3433.0|            304.0|\n",
      "|     1|        75|       plymouth fury|           95.0|     3785.0|            225.0|\n",
      "|     2|        75|          audi 100ls|           95.0|     2694.0|            115.0|\n",
      "|     3|        78|       toyota corona|           95.0|     2560.0|            134.0|\n",
      "|     2|        80|renault lecar deluxe|           null|     1835.0|             85.0|\n",
      "|     2|        74|   volkswagen dasher|           67.0|     1963.0|             79.0|\n",
      "|     3|        76|      toyota mark ii|          108.0|     2930.0|            156.0|\n",
      "|     3|        78|      datsun b210 gx|           70.0|     2070.0|             85.0|\n",
      "|     1|        73|  pontiac grand prix|          230.0|     4278.0|            400.0|\n",
      "|     1|        76|            capri ii|           92.0|     2572.0|            140.0|\n",
      "|     1|        73|plymouth custom s...|          170.0|     4654.0|            360.0|\n",
      "|     3|        72|toyota corona har...|           95.0|     2278.0|            113.0|\n",
      "|     1|        76|          ford pinto|           72.0|     2565.0|            140.0|\n",
      "|     3|        82|        honda accord|           75.0|     2205.0|            107.0|\n",
      "|     3|        77|          mazda rx-4|          110.0|     2720.0|             80.0|\n",
      "|     1|        76|          dodge colt|           79.0|     2255.0|             98.0|\n",
      "|     1|        81|  plymouth horizon 4|           63.0|     2215.0|            105.0|\n",
      "|     3|        82|         honda civic|           67.0|     1965.0|             91.0|\n",
      "|     1|        71|          ford pinto|           null|     2046.0|             98.0|\n",
      "|     1|        73|mercury marquis b...|          198.0|     4952.0|            429.0|\n",
      "+------+----------+--------------------+---------------+-----------+-----------------+\n",
      "only showing top 20 rows\n",
      "\n"
     ]
    }
   ],
   "source": [
    "auto_mpg.groupBy(['origin','model_year','car_name']).avg('horsepower', 'weight','displacement').show()"
   ]
  },
  {
   "cell_type": "code",
   "execution_count": 156,
   "id": "68cfe426",
   "metadata": {},
   "outputs": [
    {
     "data": {
      "text/plain": [
       "mpg             0\n",
       "cylinders       0\n",
       "displacement    0\n",
       "horsepower      6\n",
       "weight          0\n",
       "acceleration    0\n",
       "model year      0\n",
       "origin          0\n",
       "car name        0\n",
       "dtype: int64"
      ]
     },
     "execution_count": 156,
     "metadata": {},
     "output_type": "execute_result"
    }
   ],
   "source": [
    "df.isna().sum()"
   ]
  },
  {
   "cell_type": "markdown",
   "id": "9be4d6e4",
   "metadata": {},
   "source": [
    "#### Number of cars with name Toyota"
   ]
  },
  {
   "cell_type": "code",
   "execution_count": 157,
   "id": "3d855e3f",
   "metadata": {},
   "outputs": [
    {
     "name": "stdout",
     "output_type": "stream",
     "text": [
      "+----+---------+------------+----------+------+------------+----------+------+--------------------+\n",
      "| mpg|cylinders|displacement|horsepower|weight|acceleration|model_year|origin|            car_name|\n",
      "+----+---------+------------+----------+------+------------+----------+------+--------------------+\n",
      "|24.0|        4|       113.0|      95.0|  2372|        15.0|        70|     3|toyota corona mar...|\n",
      "|25.0|        4|       113.0|      95.0|  2228|        14.0|        71|     3|       toyota corona|\n",
      "|31.0|        4|        71.0|      65.0|  1773|        19.0|        71|     3| toyota corolla 1200|\n",
      "|24.0|        4|       113.0|      95.0|  2278|        15.5|        72|     3|toyota corona har...|\n",
      "|27.0|        4|        97.0|      88.0|  2100|        16.5|        72|     3|toyota corolla 16...|\n",
      "|20.0|        4|        97.0|      88.0|  2279|        19.0|        73|     3|       toyota carina|\n",
      "|20.0|        6|       156.0|     122.0|  2807|        13.5|        73|     3|      toyota mark ii|\n",
      "|32.0|        4|        71.0|      65.0|  1836|        21.0|        74|     3| toyota corolla 1200|\n",
      "|31.0|        4|        76.0|      52.0|  1649|        16.5|        74|     3|       toyota corona|\n",
      "|29.0|        4|        97.0|      75.0|  2171|        16.0|        75|     3|      toyota corolla|\n",
      "|24.0|        4|       134.0|      96.0|  2702|        13.5|        75|     3|       toyota corona|\n",
      "|28.0|        4|        97.0|      75.0|  2155|        16.4|        76|     3|      toyota corolla|\n",
      "|19.0|        6|       156.0|     108.0|  2930|        15.5|        76|     3|      toyota mark ii|\n",
      "|26.0|        4|        97.0|      75.0|  2265|        18.2|        77|     3|toyota corolla li...|\n",
      "|27.5|        4|       134.0|      95.0|  2560|        14.2|        78|     3|       toyota corona|\n",
      "|21.1|        4|       134.0|      95.0|  2515|        14.8|        78|     3|toyota celica gt ...|\n",
      "|38.1|        4|        89.0|      60.0|  1968|        18.8|        80|     3|toyota corolla te...|\n",
      "|29.8|        4|       134.0|      90.0|  2711|        15.5|        80|     3|toyota corona lif...|\n",
      "|32.2|        4|       108.0|      75.0|  2265|        15.2|        80|     3|      toyota corolla|\n",
      "|39.1|        4|        79.0|      58.0|  1755|        16.9|        81|     3|      toyota starlet|\n",
      "+----+---------+------------+----------+------+------------+----------+------+--------------------+\n",
      "only showing top 20 rows\n",
      "\n"
     ]
    }
   ],
   "source": [
    "auto_mpg.filter(col('car_name').like('%toyota%')).show()"
   ]
  },
  {
   "cell_type": "code",
   "execution_count": 159,
   "id": "2a8d8e37",
   "metadata": {},
   "outputs": [
    {
     "data": {
      "text/plain": [
       "25"
      ]
     },
     "execution_count": 159,
     "metadata": {},
     "output_type": "execute_result"
    }
   ],
   "source": [
    "auto_mpg.filter(col('car_name').like('%toyota%')).count()"
   ]
  },
  {
   "cell_type": "markdown",
   "id": "89d66f57",
   "metadata": {},
   "source": [
    "#### making the car name in title form"
   ]
  },
  {
   "cell_type": "code",
   "execution_count": 167,
   "id": "a94d9250",
   "metadata": {},
   "outputs": [],
   "source": [
    "import pyspark.sql.functions as F"
   ]
  },
  {
   "cell_type": "code",
   "execution_count": 177,
   "id": "e4047fc9",
   "metadata": {},
   "outputs": [
    {
     "name": "stdout",
     "output_type": "stream",
     "text": [
      "+--------------------+\n",
      "|   initcap(car_name)|\n",
      "+--------------------+\n",
      "|Chevrolet Chevell...|\n",
      "|   Buick Skylark 320|\n",
      "|  Plymouth Satellite|\n",
      "|       Amc Rebel Sst|\n",
      "|         Ford Torino|\n",
      "|    Ford Galaxie 500|\n",
      "|    Chevrolet Impala|\n",
      "|   Plymouth Fury Iii|\n",
      "|    Pontiac Catalina|\n",
      "|  Amc Ambassador Dpl|\n",
      "| Dodge Challenger Se|\n",
      "|  Plymouth 'cuda 340|\n",
      "|Chevrolet Monte C...|\n",
      "|Buick Estate Wago...|\n",
      "|Toyota Corona Mar...|\n",
      "|     Plymouth Duster|\n",
      "|          Amc Hornet|\n",
      "|       Ford Maverick|\n",
      "|        Datsun Pl510|\n",
      "|Volkswagen 1131 D...|\n",
      "+--------------------+\n",
      "only showing top 20 rows\n",
      "\n"
     ]
    }
   ],
   "source": [
    "spark.sql('select initcap(car_name) from auto_tables').show()"
   ]
  },
  {
   "cell_type": "code",
   "execution_count": 185,
   "id": "dc168c5e",
   "metadata": {},
   "outputs": [
    {
     "name": "stdout",
     "output_type": "stream",
     "text": [
      "+----+---------+------------+----------+------+------------+----------+------+--------------------+\n",
      "| mpg|cylinders|displacement|horsepower|weight|acceleration|model_year|origin|            car_name|\n",
      "+----+---------+------------+----------+------+------------+----------+------+--------------------+\n",
      "|36.0|        4|       105.0|      74.0|  1980|        15.3|        82|     2| volkswagen rabbit l|\n",
      "|33.0|        4|       105.0|      74.0|  2190|        14.2|        81|     2|    volkswagen jetta|\n",
      "|31.5|        4|        89.0|      71.0|  1990|        14.9|        78|     2| volkswagen scirocco|\n",
      "|43.1|        4|        90.0|      48.0|  1985|        21.5|        78|     2|volkswagen rabbit...|\n",
      "|29.0|        4|        97.0|      78.0|  1940|        14.5|        77|     2|volkswagen rabbit...|\n",
      "+----+---------+------------+----------+------+------------+----------+------+--------------------+\n",
      "only showing top 5 rows\n",
      "\n"
     ]
    }
   ],
   "source": [
    "auto_mpg.filter(auto_mpg['car_name'].contains('volkswagen')). \\\n",
    "orderBy(['model_year', 'horsepower'], ascending=[False, False]).show(5)"
   ]
  },
  {
   "cell_type": "markdown",
   "id": "947eece9",
   "metadata": {},
   "source": [
    "#### Filtering on Mpg and Acceleration"
   ]
  },
  {
   "cell_type": "code",
   "execution_count": 186,
   "id": "d21b0568",
   "metadata": {},
   "outputs": [
    {
     "name": "stdout",
     "output_type": "stream",
     "text": [
      "+----+---------+------------+----------+------+------------+----------+------+-------------+\n",
      "| mpg|cylinders|displacement|horsepower|weight|acceleration|model_year|origin|     car_name|\n",
      "+----+---------+------------+----------+------+------------+----------+------+-------------+\n",
      "|27.0|        4|        97.0|      88.0|  2130|        14.5|        70|     3| datsun pl510|\n",
      "|24.0|        4|       107.0|      90.0|  2430|        14.5|        70|     2|  audi 100 ls|\n",
      "|26.0|        4|       121.0|     113.0|  2234|        12.5|        70|     2|     bmw 2002|\n",
      "|27.0|        4|        97.0|      88.0|  2130|        14.5|        71|     3| datsun pl510|\n",
      "|25.0|        4|       113.0|      95.0|  2228|        14.0|        71|     3|toyota corona|\n",
      "+----+---------+------------+----------+------+------------+----------+------+-------------+\n",
      "only showing top 5 rows\n",
      "\n"
     ]
    }
   ],
   "source": [
    "auto_mpg.filter('mpg > 22 and acceleration < 15').show(5)"
   ]
  },
  {
   "cell_type": "markdown",
   "id": "06fb6d60",
   "metadata": {},
   "source": [
    "#### Filtering on ~ Null HP"
   ]
  },
  {
   "cell_type": "code",
   "execution_count": 194,
   "id": "8d3d1c69",
   "metadata": {},
   "outputs": [
    {
     "name": "stdout",
     "output_type": "stream",
     "text": [
      "+----+---------+------------+----------+------+------------+----------+------+--------------------+\n",
      "| mpg|cylinders|displacement|horsepower|weight|acceleration|model_year|origin|            car_name|\n",
      "+----+---------+------------+----------+------+------------+----------+------+--------------------+\n",
      "|18.0|        8|       307.0|     130.0|  3504|        12.0|        70|     1|chevrolet chevell...|\n",
      "|15.0|        8|       350.0|     165.0|  3693|        11.5|        70|     1|   buick skylark 320|\n",
      "|18.0|        8|       318.0|     150.0|  3436|        11.0|        70|     1|  plymouth satellite|\n",
      "|16.0|        8|       304.0|     150.0|  3433|        12.0|        70|     1|       amc rebel sst|\n",
      "|17.0|        8|       302.0|     140.0|  3449|        10.5|        70|     1|         ford torino|\n",
      "+----+---------+------------+----------+------+------------+----------+------+--------------------+\n",
      "only showing top 5 rows\n",
      "\n"
     ]
    }
   ],
   "source": [
    "auto_mpg.filter(~ auto_mpg.horsepower.isNull()).show(5)"
   ]
  },
  {
   "cell_type": "code",
   "execution_count": 195,
   "id": "be183c34",
   "metadata": {},
   "outputs": [
    {
     "data": {
      "text/plain": [
       "392"
      ]
     },
     "execution_count": 195,
     "metadata": {},
     "output_type": "execute_result"
    }
   ],
   "source": [
    "auto_mpg.filter(~ auto_mpg.horsepower.isNull()).count()"
   ]
  },
  {
   "cell_type": "code",
   "execution_count": 196,
   "id": "170e7d33",
   "metadata": {},
   "outputs": [
    {
     "data": {
      "text/plain": [
       "398"
      ]
     },
     "execution_count": 196,
     "metadata": {},
     "output_type": "execute_result"
    }
   ],
   "source": [
    "auto_mpg.count()"
   ]
  },
  {
   "cell_type": "markdown",
   "id": "f363ce21",
   "metadata": {},
   "source": [
    "#### Number of Null values in HP"
   ]
  },
  {
   "cell_type": "code",
   "execution_count": 197,
   "id": "529a289b",
   "metadata": {},
   "outputs": [
    {
     "name": "stdout",
     "output_type": "stream",
     "text": [
      "there are total 6 nulls in HorsePower\n"
     ]
    }
   ],
   "source": [
    "total_null= auto_mpg.count()- auto_mpg.filter(~ auto_mpg.horsepower.isNull()).count()\n",
    "print('there are total {} nulls in HorsePower'.format(total_null))"
   ]
  },
  {
   "cell_type": "markdown",
   "id": "90ca52ab",
   "metadata": {},
   "source": [
    "#### Filtering by when and otherwise condition and using alias to name a column"
   ]
  },
  {
   "cell_type": "code",
   "execution_count": 203,
   "id": "0ae3f2d1",
   "metadata": {},
   "outputs": [
    {
     "name": "stdout",
     "output_type": "stream",
     "text": [
      "+--------------------+----------+-----------------+\n",
      "|            car_name|model_year|Totoya Car or Not|\n",
      "+--------------------+----------+-----------------+\n",
      "|chevrolet chevell...|        70|               No|\n",
      "|   buick skylark 320|        70|               No|\n",
      "|  plymouth satellite|        70|               No|\n",
      "|       amc rebel sst|        70|               No|\n",
      "|         ford torino|        70|               No|\n",
      "|    ford galaxie 500|        70|               No|\n",
      "|    chevrolet impala|        70|               No|\n",
      "|   plymouth fury iii|        70|               No|\n",
      "|    pontiac catalina|        70|               No|\n",
      "|  amc ambassador dpl|        70|               No|\n",
      "| dodge challenger se|        70|               No|\n",
      "|  plymouth 'cuda 340|        70|               No|\n",
      "|chevrolet monte c...|        70|               No|\n",
      "|buick estate wago...|        70|               No|\n",
      "|toyota corona mar...|        70|              Yes|\n",
      "|     plymouth duster|        70|               No|\n",
      "|          amc hornet|        70|               No|\n",
      "|       ford maverick|        70|               No|\n",
      "|        datsun pl510|        70|               No|\n",
      "|volkswagen 1131 d...|        70|               No|\n",
      "+--------------------+----------+-----------------+\n",
      "only showing top 20 rows\n",
      "\n"
     ]
    }
   ],
   "source": [
    "auto_mpg.select(auto_mpg.car_name, auto_mpg.model_year, F.when(auto_mpg.car_name.like('%toyota%'), 'Yes').otherwise('No').alias('Totoya Car or Not')).show()"
   ]
  },
  {
   "cell_type": "code",
   "execution_count": 209,
   "id": "a7ccc7d2",
   "metadata": {},
   "outputs": [
    {
     "name": "stdout",
     "output_type": "stream",
     "text": [
      "+--------------------+----------+-----------+\n",
      "|            car_name|model_year|performance|\n",
      "+--------------------+----------+-----------+\n",
      "|chevrolet chevell...|        70|       Fair|\n",
      "|   buick skylark 320|        70|       Good|\n",
      "|  plymouth satellite|        70|       Good|\n",
      "|       amc rebel sst|        70|       Good|\n",
      "|         ford torino|        70|       Good|\n",
      "|    ford galaxie 500|        70|       Good|\n",
      "|    chevrolet impala|        70|       Good|\n",
      "|   plymouth fury iii|        70|       Good|\n",
      "|    pontiac catalina|        70|       Good|\n",
      "|  amc ambassador dpl|        70|       Good|\n",
      "| dodge challenger se|        70|       Good|\n",
      "|  plymouth 'cuda 340|        70|       Good|\n",
      "|chevrolet monte c...|        70|       Good|\n",
      "|buick estate wago...|        70|       Good|\n",
      "|toyota corona mar...|        70|       Fair|\n",
      "|     plymouth duster|        70|       Fair|\n",
      "|          amc hornet|        70|       Fair|\n",
      "|       ford maverick|        70|       Fair|\n",
      "|        datsun pl510|        70|       Fair|\n",
      "|volkswagen 1131 d...|        70|        Bad|\n",
      "+--------------------+----------+-----------+\n",
      "only showing top 20 rows\n",
      "\n"
     ]
    }
   ],
   "source": [
    "auto_mpg.select(auto_mpg.car_name, auto_mpg.model_year, F.when(auto_mpg.horsepower >= 140, \"Good\")\n",
    ".when(auto_mpg.horsepower <50, \"Bad\").otherwise('Fair').alias('performance')).show()"
   ]
  },
  {
   "cell_type": "markdown",
   "id": "3007fd80",
   "metadata": {},
   "source": [
    "#### Number of cars with good, bad and fair performance"
   ]
  },
  {
   "cell_type": "code",
   "execution_count": 208,
   "id": "df394ca5",
   "metadata": {},
   "outputs": [
    {
     "name": "stdout",
     "output_type": "stream",
     "text": [
      "+-----------+-----+\n",
      "|performance|count|\n",
      "+-----------+-----+\n",
      "|       Fair|  308|\n",
      "|       Good|   84|\n",
      "|        Bad|    6|\n",
      "+-----------+-----+\n",
      "\n"
     ]
    }
   ],
   "source": [
    "auto_mpg.select(auto_mpg.car_name, auto_mpg.model_year, F.when(auto_mpg.horsepower >= 140, \"Good\")\n",
    ".when(auto_mpg.horsepower < 50, \"Bad\").otherwise('Fair').alias('performance')).groupBy('performance').count().show()"
   ]
  },
  {
   "cell_type": "markdown",
   "id": "dfa7183a",
   "metadata": {},
   "source": [
    "#### Improving performance by caching"
   ]
  },
  {
   "cell_type": "code",
   "execution_count": 230,
   "id": "9b39da48",
   "metadata": {},
   "outputs": [],
   "source": [
    "import time"
   ]
  },
  {
   "cell_type": "code",
   "execution_count": 231,
   "id": "4ea97582",
   "metadata": {},
   "outputs": [
    {
     "name": "stdout",
     "output_type": "stream",
     "text": [
      "22/12/30 16:13:14 WARN CacheManager: Asked to cache already cached data.\n",
      "+-------+------------------+------------------+------------------+------------------+-----------------+------------------+------------------+------------------+--------------------+\n",
      "|summary|               mpg|         cylinders|      displacement|        horsepower|           weight|      acceleration|        model_year|            origin|            car_name|\n",
      "+-------+------------------+------------------+------------------+------------------+-----------------+------------------+------------------+------------------+--------------------+\n",
      "|  count|               398|               398|               398|               392|              398|               398|               398|               398|                 398|\n",
      "|   mean|23.514572864321615| 5.454773869346734|193.42587939698493|104.46938775510205|2970.424623115578|15.568090452261291| 76.01005025125629|1.5728643216080402|                null|\n",
      "| stddev| 7.815984312565783|1.7010042445332123|104.26983817119587| 38.49115993282846|846.8417741973268| 2.757688929812676|3.6976266467325862|0.8020548777266148|                null|\n",
      "|    min|               9.0|                 3|              68.0|              46.0|             1613|               8.0|                70|                 1|amc ambassador br...|\n",
      "|    max|              46.6|                 8|             455.0|             230.0|             5140|              24.8|                82|                 3|    vw rabbit custom|\n",
      "+-------+------------------+------------------+------------------+------------------+-----------------+------------------+------------------+------------------+--------------------+\n",
      "\n",
      "time taken is:  None 1.1095480918884277\n"
     ]
    }
   ],
   "source": [
    "start= time.time()\n",
    "cachedresults= auto_mpg.describe().cache() # caching the results before Action\n",
    "print(\"time taken is: \", cachedresults.show(),time.time()- start)"
   ]
  },
  {
   "cell_type": "code",
   "execution_count": 232,
   "id": "f15acf7c",
   "metadata": {},
   "outputs": [
    {
     "name": "stdout",
     "output_type": "stream",
     "text": [
      "+-------+------------------+------------------+------------------+------------------+-----------------+------------------+------------------+------------------+--------------------+\n",
      "|summary|               mpg|         cylinders|      displacement|        horsepower|           weight|      acceleration|        model_year|            origin|            car_name|\n",
      "+-------+------------------+------------------+------------------+------------------+-----------------+------------------+------------------+------------------+--------------------+\n",
      "|  count|               398|               398|               398|               392|              398|               398|               398|               398|                 398|\n",
      "|   mean|23.514572864321615| 5.454773869346734|193.42587939698493|104.46938775510205|2970.424623115578|15.568090452261291| 76.01005025125629|1.5728643216080402|                null|\n",
      "| stddev| 7.815984312565783|1.7010042445332123|104.26983817119587| 38.49115993282846|846.8417741973268| 2.757688929812676|3.6976266467325862|0.8020548777266148|                null|\n",
      "|    min|               9.0|                 3|              68.0|              46.0|             1613|               8.0|                70|                 1|amc ambassador br...|\n",
      "|    max|              46.6|                 8|             455.0|             230.0|             5140|              24.8|                82|                 3|    vw rabbit custom|\n",
      "+-------+------------------+------------------+------------------+------------------+-----------------+------------------+------------------+------------------+--------------------+\n",
      "\n",
      "time taken is:  None 0.09477496147155762\n"
     ]
    }
   ],
   "source": [
    "start= time.time()\n",
    "print(\"time taken is: \",cachedresults.show(), time.time()- start)"
   ]
  },
  {
   "cell_type": "code",
   "execution_count": 227,
   "id": "fa68a585",
   "metadata": {},
   "outputs": [],
   "source": [
    "### Hence time decreased"
   ]
  },
  {
   "cell_type": "code",
   "execution_count": 228,
   "id": "d796d52a",
   "metadata": {},
   "outputs": [],
   "source": [
    "# Results can be uncached by using unpersist()"
   ]
  },
  {
   "cell_type": "code",
   "execution_count": 233,
   "id": "e8866bab",
   "metadata": {},
   "outputs": [
    {
     "data": {
      "text/plain": [
       "DataFrame[summary: string, mpg: string, cylinders: string, displacement: string, horsepower: string, weight: string, acceleration: string, model_year: string, origin: string, car_name: string]"
      ]
     },
     "execution_count": 233,
     "metadata": {},
     "output_type": "execute_result"
    }
   ],
   "source": [
    "cachedresults.unpersist()"
   ]
  },
  {
   "cell_type": "code",
   "execution_count": 236,
   "id": "22fb0798",
   "metadata": {},
   "outputs": [
    {
     "data": {
      "text/plain": [
       "False"
      ]
     },
     "execution_count": 236,
     "metadata": {},
     "output_type": "execute_result"
    }
   ],
   "source": [
    "cachedresults.is_cached ## checking whether it is cached or not"
   ]
  },
  {
   "cell_type": "markdown",
   "id": "2f7d9cfe",
   "metadata": {},
   "source": [
    "#### Replacing Misspelled Brands"
   ]
  },
  {
   "cell_type": "code",
   "execution_count": 238,
   "id": "aa74e211",
   "metadata": {},
   "outputs": [
    {
     "name": "stdout",
     "output_type": "stream",
     "text": [
      "+----+---------+------------+----------+------+------------+----------+------+---------+\n",
      "| mpg|cylinders|displacement|horsepower|weight|acceleration|model_year|origin|    brand|\n",
      "+----+---------+------------+----------+------+------------+----------+------+---------+\n",
      "|18.0|        8|       307.0|     130.0|  3504|        12.0|        70|     1|chevrolet|\n",
      "|15.0|        8|       350.0|     165.0|  3693|        11.5|        70|     1|    buick|\n",
      "|18.0|        8|       318.0|     150.0|  3436|        11.0|        70|     1| plymouth|\n",
      "|16.0|        8|       304.0|     150.0|  3433|        12.0|        70|     1|      amc|\n",
      "|17.0|        8|       302.0|     140.0|  3449|        10.5|        70|     1|     ford|\n",
      "+----+---------+------------+----------+------+------------+----------+------+---------+\n",
      "only showing top 5 rows\n",
      "\n"
     ]
    }
   ],
   "source": [
    "auto_mpg = auto_mpg.withColumn('brand', split(auto_mpg['car_name'], ' ').getItem(0)).drop('car_name')\n",
    "\n",
    "\n",
    "auto_misspelled = {'chevroelt': 'chevrolet',\n",
    "                   'chevy': 'chevrolet',\n",
    "                   'vokswagen': 'volkswagen',\n",
    "                   'vw': 'volkswagen',\n",
    "                   'hi': 'harvester',\n",
    "                   'maxda': 'mazda',\n",
    "                   'toyouta': 'toyota',\n",
    "                   'mercedes-benz': 'mercedes'}\n",
    "\n",
    "for key in auto_misspelled.keys():\n",
    "    \n",
    "    auto_mpg = auto_mpg.withColumn('brand', regexp_replace('brand', key, auto_misspelled[key]))\n",
    "\n",
    "auto_mpg.show(5)"
   ]
  },
  {
   "cell_type": "markdown",
   "id": "29259521",
   "metadata": {},
   "source": [
    "#### Avg Acceleration and Horsepower by car brands"
   ]
  },
  {
   "cell_type": "code",
   "execution_count": 241,
   "id": "c7118c81",
   "metadata": {},
   "outputs": [
    {
     "name": "stdout",
     "output_type": "stream",
     "text": [
      "+--------+------------------+------------------+\n",
      "|   brand| avg(acceleration)|   avg(horsepower)|\n",
      "+--------+------------------+------------------+\n",
      "|    ford|15.378431372549018|112.22916666666667|\n",
      "|   capri|              14.9|              92.0|\n",
      "| mercury|14.963636363636363|119.81818181818181|\n",
      "|plymouth|14.851612903225801|111.41935483870968|\n",
      "|   dodge|14.460714285714284|117.17857142857143|\n",
      "+--------+------------------+------------------+\n",
      "only showing top 5 rows\n",
      "\n"
     ]
    }
   ],
   "source": [
    "auto_mpg.groupBy('brand').agg({'acceleration': 'mean', 'horsepower': 'mean'}).show(5)"
   ]
  },
  {
   "cell_type": "markdown",
   "id": "d9fa229e",
   "metadata": {},
   "source": [
    "#### Max MPG by car brands"
   ]
  },
  {
   "cell_type": "code",
   "execution_count": 243,
   "id": "021cc14f",
   "metadata": {},
   "outputs": [
    {
     "name": "stdout",
     "output_type": "stream",
     "text": [
      "+--------+--------+\n",
      "|   brand|max(mpg)|\n",
      "+--------+--------+\n",
      "|    ford|    36.1|\n",
      "|   capri|    25.0|\n",
      "| mercury|    36.0|\n",
      "|plymouth|    39.0|\n",
      "|   dodge|    36.0|\n",
      "+--------+--------+\n",
      "only showing top 5 rows\n",
      "\n"
     ]
    }
   ],
   "source": [
    "\n",
    "auto_mpg.groupBy('brand').max('mpg').show(5)"
   ]
  },
  {
   "cell_type": "code",
   "execution_count": 244,
   "id": "fe31b76b",
   "metadata": {},
   "outputs": [],
   "source": [
    "#End Session\n",
    "spark.stop()"
   ]
  },
  {
   "cell_type": "code",
   "execution_count": null,
   "id": "8cbb6836",
   "metadata": {},
   "outputs": [],
   "source": []
  }
 ],
 "metadata": {
  "kernelspec": {
   "display_name": "Python 3 (ipykernel)",
   "language": "python",
   "name": "python3"
  },
  "language_info": {
   "codemirror_mode": {
    "name": "ipython",
    "version": 3
   },
   "file_extension": ".py",
   "mimetype": "text/x-python",
   "name": "python",
   "nbconvert_exporter": "python",
   "pygments_lexer": "ipython3",
   "version": "3.9.7"
  }
 },
 "nbformat": 4,
 "nbformat_minor": 5
}
